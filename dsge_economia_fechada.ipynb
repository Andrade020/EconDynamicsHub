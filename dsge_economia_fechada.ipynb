{
 "cells": [
  {
   "cell_type": "code",
   "execution_count": 2,
   "metadata": {},
   "outputs": [],
   "source": [
    "#!pip install manim - execute this to install our graphical library, inspired by 3blue1brown\n",
    "# if it doesnt work: \n",
    "#import sys\n",
    "#!{sys.executable} -m pip install manim\n",
    "\n",
    "from manim import *\n",
    "\n",
    "class CaminhoDoCapital(Scene):\n",
    "    def construct(self):\n",
    "        # Cria os eixos para o gráfico\n",
    "        axes = Axes(\n",
    "            x_range=[0, 50, 5],\n",
    "            y_range=[0, 3, 0.5],\n",
    "            x_length=10,\n",
    "            y_length=6,\n",
    "            axis_config={\"color\": WHITE},\n",
    "        )\n",
    "        labels = axes.get_axis_labels(x_label=\"Tempo\", y_label=\"Capital\")\n",
    "        self.play(Create(axes), Write(labels))\n",
    "        \n",
    "        # Parâmetros da simulação (os mesmos do exemplo acima)\n",
    "        T = 50\n",
    "        beta = 0.95\n",
    "        delta = 0.1\n",
    "        alpha = 0.3\n",
    "        k_vals = [1.0]\n",
    "        c_vals = [0.5 * (1.0**alpha + (1-delta)*1.0)]\n",
    "        for t in range(T-1):\n",
    "            k_next = k_vals[t]**alpha + (1-delta)*k_vals[t] - c_vals[t]\n",
    "            k_vals.append(k_next)\n",
    "            c_next = beta * (alpha * k_next**(alpha-1) + (1-delta)) * c_vals[t]\n",
    "            c_vals.append(c_next)\n",
    "        \n",
    "        # Cria um gráfico a partir dos valores simulados do capital\n",
    "        graph = axes.plot_line_graph(x_values=list(range(T+1)), y_values=k_vals, line_color=BLUE)\n",
    "        self.play(Create(graph))\n",
    "        self.wait(2)\n"
   ]
  }
 ],
 "metadata": {
  "kernelspec": {
   "display_name": "meu_ambiente",
   "language": "python",
   "name": "meu_ambiente"
  },
  "language_info": {
   "codemirror_mode": {
    "name": "ipython",
    "version": 3
   },
   "file_extension": ".py",
   "mimetype": "text/x-python",
   "name": "python",
   "nbconvert_exporter": "python",
   "pygments_lexer": "ipython3",
   "version": "3.12.7"
  }
 },
 "nbformat": 4,
 "nbformat_minor": 2
}
